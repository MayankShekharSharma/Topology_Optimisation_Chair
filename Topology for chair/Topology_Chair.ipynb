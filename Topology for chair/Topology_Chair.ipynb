{
 "cells": [
  {
   "cell_type": "markdown",
   "id": "f51b702e-7a60-42be-9b84-b4a3d90dc150",
   "metadata": {},
   "source": [
    "# SIMP Topology Optimization using Gridap in Julia\n",
    "Done by Mayank Shekhar"
   ]
  },
  {
   "cell_type": "markdown",
   "id": "9b7e12fc-0bad-4406-ac0b-85cfd4c73a07",
   "metadata": {},
   "source": [
    "## Load required packages"
   ]
  },
  {
   "cell_type": "code",
   "execution_count": 1,
   "id": "942cec25-c5f5-4264-8d95-4143e4869213",
   "metadata": {},
   "outputs": [],
   "source": [
    "# FEA \n",
    "using  Gridap\n",
    "using  Gridap.Geometry\n",
    "using  Gridap.Fields\n",
    "using  Gridap.TensorValues \n",
    "using  Gridap.CellData \n",
    "\n",
    "# Meshing \n",
    "using  Gmsh \n",
    "using  GridapGmsh\n",
    "\n",
    "using  LinearAlgebra \n",
    "\n",
    "# Gardient calculation \n",
    "using  ChainRulesCore, Zygote\n",
    "import ChainRulesCore: rrule \n",
    "\n",
    "# For MMA \n",
    "using  NLopt \n",
    "\n",
    "# For plotting \n",
    "using CairoMakie, GridapMakie "
   ]
  },
  {
   "cell_type": "markdown",
   "id": "181aa6f0-7513-430a-9976-041dade22fd3",
   "metadata": {},
   "source": [
    "## Constant parameters\n",
    "Material properties, such as modulus of elasticity and Poisson's ratio. The SIMP penalty is generally assumed as 3~5."
   ]
  },
  {
   "cell_type": "code",
   "execution_count": 2,
   "id": "1d9a9e0b-657a-43f9-b0c8-09c29b46d854",
   "metadata": {},
   "outputs": [],
   "source": [
    "const  E_mat = 1.0\n",
    "const  ν_mat = 0.3 \n",
    "const  penal = 3; "
   ]
  },
  {
   "cell_type": "markdown",
   "id": "03c64d58-9307-469b-a965-1ea8039efa59",
   "metadata": {},
   "source": [
    "## Create the mesh or load already created mesh file using gmsh"
   ]
  },
  {
   "cell_type": "code",
   "execution_count": 3,
   "id": "662cc520-3141-4ba8-891b-6101b818583b",
   "metadata": {},
   "outputs": [
    {
     "name": "stdout",
     "output_type": "stream",
     "text": [
      "Info    : Meshing 1D...\n",
      "Info    : [  0%] Meshing curve 1 (Line)\n",
      "Info    : [ 20%] Meshing curve 2 (Line)\n",
      "Info    : [ 30%] Meshing curve 3 (Line)\n",
      "Info    : [ 50%] Meshing curve 4 (Line)\n",
      "Info    : [ 60%] Meshing curve 5 (Line)\n",
      "Info    : [ 80%] Meshing curve 6 (Line)\n",
      "Info    : [ 90%] Meshing curve 33 (Line)\n",
      "Info    : Done meshing 1D (Wall 0.000351906s, CPU 0s)\n",
      "Info    : Meshing 2D...\n",
      "Info    : Meshing surface 1 (Plane, Frontal-Delaunay)\n",
      "Info    : Done meshing 2D (Wall 0.04333s, CPU 0.046875s)\n",
      "Info    : 2228 nodes 4461 elements\n",
      "Info    : Writing 'Chair.msh'...\n",
      "Info    : Done writing 'Chair.msh'\n",
      "Info    : Reading 'Chair.msh'...\n",
      "Info    : 15 entities\n",
      "Info    : 2228 nodes\n",
      "Info    : 4281 elements\n",
      "Info    : Done reading 'Chair.msh'\n"
     ]
    },
    {
     "name": "stderr",
     "output_type": "stream",
     "text": [
      "Warning : Unknown entity of dimension 2 and tag 1 in physical group 1\n",
      "Warning : Unknown entity of dimension 1 and tag 5 in physical group 1\n",
      "Warning : Unknown entity of dimension 1 and tag 33 in physical group 2\n",
      "Warning : Unknown entity of dimension 0 and tag 1 in physical group 1\n",
      "Warning : Unknown entity of dimension 0 and tag 2 in physical group 2\n"
     ]
    }
   ],
   "source": [
    "# ################################################\n",
    "# # Create the mesh \n",
    "# ################################################\n",
    "\n",
    "const L = 80\n",
    "const H = 120\n",
    "const B = 40\n",
    "const S = 60\n",
    "const hf = L/40\n",
    "const CW = H/12\n",
    "\n",
    "gmsh.initialize()\n",
    "gmsh.option.setNumber(\"General.Terminal\", 1)\n",
    "\n",
    "gmsh.model.geo.addPoint(0.0, 0.0 , 0.0, hf ,1)\n",
    "gmsh.model.geo.addPoint(L, 0.0, 0.0, hf, 2)\n",
    "gmsh.model.geo.addPoint(L, H, 0.0, hf, 3)\n",
    "gmsh.model.geo.addPoint(L-B, H-CW, 0.0, hf, 33)\n",
    "gmsh.model.geo.addPoint(L-B, H, 0.0, hf, 4)\n",
    "gmsh.model.geo.addPoint(L-B, H-S, 0.0, hf, 5)\n",
    "gmsh.model.geo.addPoint(0, H-S, 0.0, hf, 6)\n",
    "\n",
    "gmsh.model.geo.addLine(1, 2, 1)\n",
    "gmsh.model.geo.addLine(2, 3, 2)\n",
    "gmsh.model.geo.addLine(3, 4, 3)\n",
    "gmsh.model.geo.addLine(4, 33, 33)\n",
    "gmsh.model.geo.addLine(33, 5, 4)\n",
    "gmsh.model.geo.addLine(5, 6, 5)\n",
    "gmsh.model.geo.addLine(6, 1, 6)\n",
    "\n",
    "gmsh.model.geo.addCurveLoop([1,2,3,33,4,5,6],1)\n",
    "gmsh.model.geo.addPlaneSurface([1], 1)\n",
    "\n",
    "gmsh.model.addPhysicalGroup(2, [1],1)\n",
    "\n",
    "gmsh.model.addPhysicalGroup(1, [5],1)\n",
    "gmsh.model.addPhysicalGroup(1, [33],2)\n",
    "\n",
    "gmsh.model.addPhysicalGroup(0, [1],1)\n",
    "gmsh.model.addPhysicalGroup(0, [2],2)\n",
    "\n",
    "gmsh.model.setPhysicalName(2, 1, \"Domain\")\n",
    "\n",
    "gmsh.model.setPhysicalName(1, 1, \"SittingPosition\")\n",
    "gmsh.model.setPhysicalName(1, 2, \"HeadPosition\")\n",
    "\n",
    "\n",
    "gmsh.model.setPhysicalName(0, 1, \"LeftSupport\")\n",
    "gmsh.model.setPhysicalName(0, 2, \"RightSupport\")\n",
    "\n",
    "gmsh.model.geo.synchronize()\n",
    "gmsh.model.mesh.generate(2)\n",
    "gmsh.write(\"Chair.msh\")\n",
    "gmsh.finalize() \n",
    "\n",
    "#################################################\n",
    "# Load the mesh \n",
    "#################################################\n",
    "model = GmshDiscreteModel(\"Chair.msh\"); \n",
    "\n",
    "#################################################\n",
    "# Save the mesh in a vtk file \n",
    "#################################################\n",
    "writevtk(model ,\"Chair\"); "
   ]
  },
  {
   "cell_type": "markdown",
   "id": "e4317bda-cc30-4974-b597-d4f21e4b6574",
   "metadata": {},
   "source": [
    "### Constitutive matrix (1 for plane stress, 2 for plane strain) \n",
    "Elasticity tensor, constitutive relation, and SIMP penalty relation are formulated here. "
   ]
  },
  {
   "cell_type": "code",
   "execution_count": 4,
   "id": "ffba03a1-ec0a-43a5-9234-c2026e6d22b7",
   "metadata": {},
   "outputs": [],
   "source": [
    "function  ElasFourthOrderConstTensor(E,ν,PlanarState)\n",
    "    # 1 for  Plane  Stress  and 2 Plane  Strain  Condition\n",
    "    if  PlanarState  == 1\n",
    "        C1111 =E/(1-ν*ν)\n",
    "        C1122 = (ν*E)/(1-ν*ν)\n",
    "        C1112 = 0.0\n",
    "        C2222 =E/(1-ν*ν)\n",
    "        C2212 = 0.0\n",
    "        C1212 =E/(2*(1+ν))\n",
    "    elseif  PlanarState  == 2\n",
    "        C1111 = (E*(1-ν*ν))/((1+ν)*(1-ν-2*ν*ν))\n",
    "        C1122 = (ν*E)/(1-ν-2*ν*ν)\n",
    "        C1112 = 0.0\n",
    "        C2222 = (E*(1-ν))/(1-ν-2*ν*ν)\n",
    "        C2212 = 0.0\n",
    "        C1212 =E/(2*(1+ν))\n",
    "    end\n",
    "    C_ten = SymFourthOrderTensorValue(C1111 ,C1112 ,C1122 ,C1112 ,C1212 ,C2212 ,C1122 ,C2212 ,C2222)\n",
    "    return   C_ten\n",
    "end \n",
    "\n",
    "function σfun(ε)\n",
    "    σ = C_mat⊙ε\n",
    "    return  σ\n",
    "end \n",
    "\n",
    "function Em(p)\n",
    "    Em = p ^ penal\n",
    "    return Em\n",
    "end \n",
    "\n",
    "const  C_mat = ElasFourthOrderConstTensor(E_mat ,ν_mat ,1);"
   ]
  },
  {
   "cell_type": "markdown",
   "id": "696b0ef1-39d1-4a21-8cd4-99eafa130137",
   "metadata": {},
   "source": [
    "### Finite Element Analysis "
   ]
  },
  {
   "cell_type": "code",
   "execution_count": 5,
   "id": "958661eb-023d-4b31-9ae5-9175a116fdf6",
   "metadata": {},
   "outputs": [
    {
     "data": {
      "text/plain": [
       "UnconstrainedFESpace()"
      ]
     },
     "execution_count": 5,
     "metadata": {},
     "output_type": "execute_result"
    }
   ],
   "source": [
    "order = 1\n",
    "reffe_Disp = ReferenceFE(lagrangian ,VectorValue{2,Float64},order)\n",
    "V0_Disp = TestFESpace(model,reffe_Disp;conformity =:H1,\n",
    "    dirichlet_tags = [\"LeftSupport\",\"RightSupport\"],\n",
    "    dirichlet_masks =[(true,true),(true,true)])\n",
    "uh = zero(V0_Disp)\n",
    "U0_Disp = V0_Disp"
   ]
  },
  {
   "cell_type": "code",
   "execution_count": 6,
   "id": "148ada7a-7725-47c6-986a-a7b48732872d",
   "metadata": {},
   "outputs": [
    {
     "data": {
      "text/plain": [
       "GenericMeasure()"
      ]
     },
     "execution_count": 6,
     "metadata": {},
     "output_type": "execute_result"
    }
   ],
   "source": [
    "degree = 2*order\n",
    "Ω= Triangulation(model)\n",
    "dΩ= Measure(Ω,degree) "
   ]
  },
  {
   "cell_type": "code",
   "execution_count": 7,
   "id": "3c09f1f8-a33b-4f48-b2d3-f9b677891ac9",
   "metadata": {},
   "outputs": [
    {
     "data": {
      "text/plain": [
       "GenericCellField():\n",
       " num_cells: 20\n",
       " DomainStyle: ReferenceDomain()\n",
       " Triangulation: BoundaryTriangulation()\n",
       " Triangulation id: 4976905946008182856"
      ]
     },
     "execution_count": 7,
     "metadata": {},
     "output_type": "execute_result"
    }
   ],
   "source": [
    "labels = get_face_labeling(model)\n",
    "LoadTagId1 = get_tag_from_name(labels ,\"SittingPosition\")\n",
    "Γ_Load1 = BoundaryTriangulation(model ;tags = LoadTagId1)\n",
    "dΓ_Load1 = Measure(Γ_Load1 ,degree)\n",
    "n_Γ_Load1 = get_normal_vector(Γ_Load1)"
   ]
  },
  {
   "cell_type": "code",
   "execution_count": 8,
   "id": "5c07b253-0f78-4e69-abd2-2174d6fd43f0",
   "metadata": {},
   "outputs": [
    {
     "data": {
      "text/plain": [
       "GenericCellField():\n",
       " num_cells: 5\n",
       " DomainStyle: ReferenceDomain()\n",
       " Triangulation: BoundaryTriangulation()\n",
       " Triangulation id: 17004754003014019102"
      ]
     },
     "execution_count": 8,
     "metadata": {},
     "output_type": "execute_result"
    }
   ],
   "source": [
    "labels = get_face_labeling(model)\n",
    "LoadTagId2 = get_tag_from_name(labels ,\"HeadPosition\")\n",
    "Γ_Load2 = BoundaryTriangulation(model ;tags = LoadTagId2)\n",
    "dΓ_Load2 = Measure(Γ_Load2 ,degree)\n",
    "n_Γ_Load2 = get_normal_vector(Γ_Load2)"
   ]
  },
  {
   "cell_type": "code",
   "execution_count": 9,
   "id": "b1be255c-29ea-4ef0-8a70-4f854b6702d9",
   "metadata": {},
   "outputs": [
    {
     "data": {
      "text/plain": [
       "4254"
      ]
     },
     "execution_count": 9,
     "metadata": {},
     "output_type": "execute_result"
    }
   ],
   "source": [
    "p_reffe = ReferenceFE(lagrangian, Float64, 0)\n",
    "Q = TestFESpace(Ω, p_reffe, vector_type = Vector{Float64})\n",
    "P = Q\n",
    "np = num_free_dofs(P) "
   ]
  },
  {
   "cell_type": "code",
   "execution_count": 10,
   "id": "dfcec892-2b05-490a-bfaa-1e5ccb650510",
   "metadata": {},
   "outputs": [
    {
     "data": {
      "text/plain": [
       "UnconstrainedFESpace()"
      ]
     },
     "execution_count": 10,
     "metadata": {},
     "output_type": "execute_result"
    }
   ],
   "source": [
    "pf_reffe = ReferenceFE(lagrangian, Float64, 1)\n",
    "Qf = TestFESpace(Ω, pf_reffe, vector_type = Vector{Float64})\n",
    "Pf = Qf"
   ]
  },
  {
   "cell_type": "code",
   "execution_count": 11,
   "id": "64c02d4b-fec9-4073-9bdc-2bd7f7a51dd2",
   "metadata": {},
   "outputs": [
    {
     "data": {
      "text/plain": [
       "(V0_Disp = UnconstrainedFESpace(), U0_Disp = UnconstrainedFESpace(), Q = UnconstrainedFESpace(), P = UnconstrainedFESpace(), Qf = UnconstrainedFESpace(), Pf = UnconstrainedFESpace(), np = 4254, Ω = BodyFittedTriangulation(), dΩ = GenericMeasure(), n_Γ_Load1 = GenericCellField(), n_Γ_Load2 = GenericCellField(), dΓ_Load1 = GenericMeasure(), dΓ_Load2 = GenericMeasure())"
      ]
     },
     "execution_count": 11,
     "metadata": {},
     "output_type": "execute_result"
    }
   ],
   "source": [
    "fem_params = (;V0_Disp, U0_Disp, Q, P, Qf, Pf, np, Ω, dΩ, n_Γ_Load1, n_Γ_Load2, dΓ_Load1, dΓ_Load2) "
   ]
  },
  {
   "cell_type": "code",
   "execution_count": 12,
   "id": "9cc5aad7-bbd2-412b-88ce-f112aa4e1b47",
   "metadata": {},
   "outputs": [
    {
     "data": {
      "text/plain": [
       "MatrixA (generic function with 1 method)"
      ]
     },
     "execution_count": 12,
     "metadata": {},
     "output_type": "execute_result"
    }
   ],
   "source": [
    "A_Disp(u,v,pth) =  ((p->Em(p))∘pth) * (ε(v) ⊙ (σfun∘(ε(u))))\n",
    "function MatrixA(pth; fem_params)\n",
    "    A_mat = assemble_matrix(fem_params.U0_Disp, fem_params.V0_Disp) do u, v\n",
    "        ∫(A_Disp(u,v,pth))fem_params.dΩ\n",
    "    end\n",
    "    return lu(A_mat)\n",
    "end"
   ]
  },
  {
   "cell_type": "code",
   "execution_count": 13,
   "id": "86bd4aa6-eaf9-4523-b4e1-a21c340066df",
   "metadata": {},
   "outputs": [
    {
     "data": {
      "text/plain": [
       "VectorValue{2, Float64}(0.7071, -0.7071)"
      ]
     },
     "execution_count": 13,
     "metadata": {},
     "output_type": "execute_result"
    }
   ],
   "source": [
    "f = VectorValue(0,-1.0) # Load vector \n",
    "g = VectorValue(0.7071,-0.7071)"
   ]
  },
  {
   "cell_type": "code",
   "execution_count": 14,
   "id": "35c4a60c-1b8c-46d5-a600-00077cb8e94b",
   "metadata": {},
   "outputs": [
    {
     "data": {
      "text/plain": [
       "stepDisp (generic function with 1 method)"
      ]
     },
     "execution_count": 14,
     "metadata": {},
     "output_type": "execute_result"
    }
   ],
   "source": [
    "function  stepDisp(fem_params,pth)\n",
    "    A_Disp(u,v,pth) = ((p->Em(p))∘pth) * ε(v) ⊙ (σfun∘(ε(u)))\n",
    "    a_Disp(u,v) = ∫(A_Disp(u,v,pth))fem_params.dΩ\n",
    "    b_Disp(v) = ∫(v ⋅ f)fem_params.dΓ_Load1 + ∫(v ⋅ g)fem_params.dΓ_Load2\n",
    "    op_Disp = AffineFEOperator(a_Disp ,b_Disp ,fem_params.U0_Disp ,fem_params.V0_Disp)\n",
    "    uh_out = solve(op_Disp)\n",
    "    return  get_free_dof_values(uh_out)\n",
    "end "
   ]
  },
  {
   "cell_type": "code",
   "execution_count": 15,
   "id": "685e7a8e-ae2d-440d-ba7f-900951e75de1",
   "metadata": {},
   "outputs": [
    {
     "name": "stdout",
     "output_type": "stream",
     "text": [
      "size(MatrixOf(fem_params)) = (4452, 4452)\n"
     ]
    }
   ],
   "source": [
    "function MatrixOf(fem_params)\n",
    "\n",
    "    return assemble_matrix(fem_params.U0_Disp, fem_params.V0_Disp) do u, v\n",
    "             0.5*∫((∇(u))' ⊙ (C_mat ⊙ ∇(v)))fem_params.dΩ\n",
    "    end\n",
    "end\n",
    "@show size(MatrixOf(fem_params)); "
   ]
  },
  {
   "cell_type": "markdown",
   "id": "36b4236e-e873-47d2-885c-b1ec70dc6fe0",
   "metadata": {},
   "source": [
    "### Filtering and thresholding \n",
    "Helmholtz PDE-based filter is used here. \n",
    "\n",
    "(see: Lazarov, Boyan Stefanov, and Ole Sigmund. \"Filters in topology optimization based on Helmholtz‐type differential equations.\" International Journal for Numerical Methods in Engineering 86.6 (2011): 765-781.) \n",
    "\n",
    "A smooth approximation of the Heaviside step function is used as the thresholding function. $\\beta$ determines the strength of the approximation, and $\\eta$ determines the location. Note that $\\eta=0.5$ is standard in TO. "
   ]
  },
  {
   "cell_type": "code",
   "execution_count": 16,
   "id": "cfda2598-712a-4e69-b6ce-134dfd3b2e71",
   "metadata": {},
   "outputs": [],
   "source": [
    "elemsize = 2.0 # element size = hf = 80/40\n",
    "r = (3*elemsize)/(2*sqrt(3)) #0.025           # Filter radius\n",
    "β = 4                       # β∈[1,∞], threshold sharpness\n",
    "η = 0.5                     # η∈[0,1], threshold center\n",
    "\n",
    "a_f(r, u, v) = r^2 * (∇(v) ⋅ ∇(u))\n",
    "\n",
    "function Filter(p0; r, fem_params)\n",
    "    ph = FEFunction(fem_params.P, p0)\n",
    "    op = AffineFEOperator(fem_params.Pf, fem_params.Qf) do u, v\n",
    "        ∫(a_f(r, u, v))fem_params.dΩ + ∫(v * u)fem_params.dΩ, ∫(v * ph)fem_params.dΩ\n",
    "      end\n",
    "    pfh = solve(op)\n",
    "    return get_free_dof_values(pfh)\n",
    "end\n",
    "\n",
    "function Threshold(pfh; β, η)\n",
    "    return  ((tanh(β * η) + tanh(β * (pfh - η))) / (tanh(β * η) + tanh(β * (1.0 - η)))) \n",
    "\n",
    "end \n",
    "\n",
    "NO_FIELDS = ZeroTangent() \n",
    "\n",
    "Dptdpf(pf, β, η) = β * (1.0 - tanh(β * (pf - η))^2) / (tanh(β * η) + tanh(β * (1.0 - η))) # Gradient of thresholding function \n",
    "DEdpf(pf, β, η)= penal * ((Threshold(pf; β, η)) ^ (penal-1)) * Dptdpf(pf, β, η) # Gradient of density^penal\n",
    "DAdpf(u, v, pfh; β, η) = ((p->DEdpf(p, β, η)) ∘ pfh) * (ε(v) ⊙ (σfun∘(ε(u)))); "
   ]
  },
  {
   "cell_type": "markdown",
   "id": "369eba42-1631-4f30-9dd2-e0975068d852",
   "metadata": {},
   "source": [
    "### FEA result with the entire domain filled with density 1 elements \n",
    "For checking!"
   ]
  },
  {
   "cell_type": "code",
   "execution_count": 17,
   "id": "fd283794-9b04-4a25-9ae6-a22a2d52055f",
   "metadata": {},
   "outputs": [],
   "source": [
    "# Comment/Uncomment for FEA Analysis \n",
    "p0 = ones(fem_params.np)\n",
    "pf_vec = Filter(p0;r, fem_params)\n",
    "pfh = FEFunction(fem_params.Pf, pf_vec)\n",
    "pth = (pf -> Threshold(pf; β, η)) ∘ pfh\n",
    "A_mat = MatrixA(pth; fem_params)\n",
    "u_vec = stepDisp(fem_params,pth)\n",
    "uh = FEFunction(fem_params.U0_Disp, u_vec)\n",
    "\n",
    "writevtk(Ω,\"FEAresultschair\",cellfields=[\"uh\"=>uh,\"p0\"=>p0,\"pth\"=>pth]);"
   ]
  },
  {
   "cell_type": "markdown",
   "id": "4e6fdf2d-81ca-4a40-922a-41dfb14fe87c",
   "metadata": {},
   "source": [
    "### Gradient calculation \n",
    "Using adjoint method "
   ]
  },
  {
   "cell_type": "code",
   "execution_count": 18,
   "id": "2b5dca0f-8afb-4f92-a3e0-f6e91f5e3d40",
   "metadata": {},
   "outputs": [],
   "source": [
    "function gf_pf(pf_vec; β, η, fem_params)\n",
    "    pfh = FEFunction(fem_params.Pf, pf_vec)\n",
    "    pth = (pf -> Threshold(pf; β, η)) ∘ pfh\n",
    "    u_vec = stepDisp(fem_params,pth)\n",
    "    K_mat = MatrixOf(fem_params)\n",
    "    u_vec' * K_mat * u_vec\n",
    "end \n",
    "\n",
    "function rrule(::typeof(gf_pf), pf_vec; β, η, fem_params)\n",
    "    function U_Disp_pullback(dg)\n",
    "      NO_FIELDS, dg * Dgfdpf(pf_vec; β, η, fem_params) \n",
    "    end\n",
    "    gf_pf(pf_vec; β, η, fem_params), U_Disp_pullback\n",
    "end\n",
    "\n",
    "function Dgfdpf(pf_vec; β, η, fem_params)\n",
    "    pfh = FEFunction(fem_params.Pf, pf_vec)\n",
    "    pth = (pf -> Threshold(pf; β, η)) ∘ pfh\n",
    "    A_mat = MatrixA(pth; fem_params)\n",
    "    u_vec = stepDisp(fem_params,pth)\n",
    "    O_mat = MatrixOf(fem_params)\n",
    "    uh = FEFunction(fem_params.U0_Disp, u_vec)\n",
    "    w_vec =  A_mat' \\ (O_mat * u_vec)\n",
    "    wconjh = FEFunction(fem_params.U0_Disp, w_vec)\n",
    "    l_temp(dp) = ∫(-2*DAdpf(wconjh,uh, pfh; β, η) * dp)fem_params.dΩ\n",
    "    dgfdpf = assemble_vector(l_temp, fem_params.Pf)\n",
    "\n",
    "    return dgfdpf\n",
    "end \n",
    "\n",
    "function pf_p0(p0; r, fem_params)\n",
    "    pf_vec = Filter(p0; r, fem_params)\n",
    "    pf_vec\n",
    "end\n",
    "\n",
    "function rrule(::typeof(pf_p0), p0; r, fem_params)\n",
    "  function pf_pullback(dgdpf)\n",
    "    NO_FIELDS, Dgdp(dgdpf; r, fem_params)\n",
    "  end\n",
    "  pf_p0(p0; r, fem_params), pf_pullback\n",
    "end\n",
    "\n",
    "function Dgdp(dgdpf; r, fem_params)\n",
    "    Af = assemble_matrix(fem_params.Pf, fem_params.Qf) do u, v\n",
    "        ∫(a_f(r, u, v))fem_params.dΩ + ∫(v * u)fem_params.dΩ\n",
    "    end\n",
    "    wvec = Af' \\ dgdpf\n",
    "    wh = FEFunction(fem_params.Pf, wvec)\n",
    "    l_temp(dp) = ∫(wh * dp)fem_params.dΩ\n",
    "    return assemble_vector(l_temp, fem_params.P)\n",
    "end \n",
    "\n",
    "function gf_p(p0::Vector; r, β, η, fem_params)\n",
    "    pf_vec = pf_p0(p0; r, fem_params)\n",
    "    gf_pf(pf_vec; β, η, fem_params)\n",
    "end\n",
    "\n",
    "function gf_p(p0::Vector, grad::Vector; r, β, η, fem_params)\n",
    "    if length(grad) > 0\n",
    "        dgdp, = Zygote.gradient(p -> gf_p(p; r, β, η, fem_params), p0)\n",
    "        grad[:] = dgdp\n",
    "    end\n",
    "    gvalue = gf_p(p0::Vector; r, β, η, fem_params)\n",
    "    open(\"gvaluemma.txt\", \"a\") do io\n",
    "        write(io, \"$gvalue \\n\")\n",
    "    end\n",
    "    gvalue\n",
    "end; "
   ]
  },
  {
   "cell_type": "markdown",
   "id": "4799dfe1-43f0-49c1-8887-eea66c5f255e",
   "metadata": {},
   "source": [
    "### Volume constraint calculation \n",
    "Volume should be estimated with filtered densities and not with thresholded densities. "
   ]
  },
  {
   "cell_type": "code",
   "execution_count": 19,
   "id": "e1054828-3c35-4b97-abba-3b4c4631f66f",
   "metadata": {},
   "outputs": [],
   "source": [
    "volfrac = 0.3 \n",
    "\n",
    "dv=get_array(∫(1)fem_params.dΩ)\n",
    "getpoints = get_cell_points(Ω)\n",
    "\n",
    "gradc = zeros(fem_params.np)\n",
    "function cf_p(p0::Vector, gradc::Vector; r, β, η, fem_params)\n",
    "    if length(gradc) > 0\n",
    "        gradc[:] = dv\n",
    "    end\n",
    "    pf_vec = pf_p0(p0; r, fem_params)\n",
    "    pfh = FEFunction(fem_params.Pf, pf_vec)\n",
    "    pth = (pf -> Threshold(pf; β, η)) ∘ pfh\n",
    "    pthxtr = evaluate(pfh⊙dv,getpoints)\n",
    "    return sum(pthxtr)[1] - volfrac*sum(dv)\n",
    "end; "
   ]
  },
  {
   "cell_type": "markdown",
   "id": "70c8e8b8-16dd-4e56-8310-69d8bc2ba852",
   "metadata": {},
   "source": [
    "### MMA to optimize \n",
    "Svanberg, Krister. \"The method of moving asymptotes—a new method for structural optimization.\" International journal for numerical methods in engineering 24.2 (1987): 359-373. "
   ]
  },
  {
   "cell_type": "code",
   "execution_count": 20,
   "id": "293c823c-a20b-4538-9625-54e583e5ca28",
   "metadata": {},
   "outputs": [],
   "source": [
    "function gf_p_optimize(p_init; r, β, η, TOL=1e-4, MAX_ITER, fem_params)\n",
    "    ##################### Optimize #################\n",
    "    opt = Opt(:LD_MMA, fem_params.np)\n",
    "    opt.lower_bounds = 0.001\n",
    "    opt.upper_bounds = 1\n",
    "    opt.xtol_rel = TOL\n",
    "    opt.maxeval = MAX_ITER\n",
    "    opt.min_objective = (p0, grad) -> gf_p(p0, grad; r, β, η, fem_params)\n",
    "    inequality_constraint!(opt, (p0, gradc) -> cf_p(p0, gradc; r, β, η, fem_params), 1e-8)\n",
    "    (g_opt, p_opt, ret) = optimize(opt, p_init)\n",
    "    @show numevals = opt.numevals # the number of function evaluations\n",
    "    println(\"got $g_opt at $p_opt after $numevals iterations (returned $ret)\")\n",
    "    return g_opt, p_opt\n",
    "\n",
    "end; "
   ]
  },
  {
   "cell_type": "markdown",
   "id": "a7539b6a-2759-4277-92e3-2487f0bc7623",
   "metadata": {},
   "source": [
    "## Run the MMA"
   ]
  },
  {
   "cell_type": "code",
   "execution_count": 21,
   "id": "9d062a38-9176-4d44-900d-b8a89bf9da7d",
   "metadata": {},
   "outputs": [
    {
     "name": "stdout",
     "output_type": "stream",
     "text": [
      "numevals = opt.numevals = 1962\n",
      "got 29013.943837986593 at [1.0, 0.001, 0.001, 0.24538051798223903, 0.001, 0.001, 0.001, 0.9145730279383872, 0.3457817899639117, 0.001, 1.0, 0.9123336369720562, 0.001, 0.8654996280343303, 0.001, 0.001, 0.001, 0.001, 0.014907956340318345, 0.001, 0.001, 0.001, 0.04947848169942228, 1.0, 0.8731815671988014, 0.001, 0.813343800828855, 1.0, 0.0391391841250209, 0.001, 0.001, 1.0, 1.0, 0.001, 1.0, 0.001, 1.0, 1.0, 0.001, 0.001, 1.0, 0.9614197411148634, 1.0, 0.94256119010994, 0.002863333900770439, 0.9953448046688016, 0.001, 1.0, 0.9887572565468786, 0.001, 0.001, 1.0, 0.03547650650969976, 1.0, 0.001, 1.0, 1.0, 0.797855918018064, 0.001, 0.001, 0.8591475938350125, 0.001, 0.001, 0.001, 0.001, 0.001, 0.03553713997636261, 0.001, 0.001, 0.003931551507876359, 0.001, 0.27858531536451436, 0.001, 0.03791104098777175, 0.004321960300670086, 0.0010006903690480125, 0.0013460786894531325, 0.0011712075555411745, 0.001, 1.0, 0.001, 1.0, 1.0, 0.001, 0.09634020677598071, 0.001, 0.001, 1.0, 0.6419745082004866, 0.001599948061123229, 0.08475117255554257, 1.0, 1.0, 0.001, 1.0, 0.03285571150522465, 1.0, 1.0, 0.001, 1.0, 1.0, 0.0032673643154870393, 0.2667661660844738, 0.06513628650473631, 1.0, 0.001, 0.001, 0.001, 0.001, 1.0, 0.10501297196748932, 0.001, 0.029288995539650958, 0.04020225552525526, 0.001, 0.697837556407175, 1.0, 1.0, 0.6504409176721376, 0.001, 1.0, 0.06740532424597902, 0.001, 0.001, 1.0, 0.001, 0.004185051990534048, 0.05239960290111466, 1.0, 1.0, 0.001, 0.001, 0.044135684349921336, 0.12734435793076768, 1.0, 0.001, 0.001, 0.001, 0.001, 1.0, 1.0, 0.001, 0.21508724987239597, 0.9497736728600085, 0.679948984890446, 1.0, 1.0, 1.0, 0.001, 1.0, 1.0, 0.001, 1.0, 0.001, 0.04056409340051946, 0.001, 0.8584714097967063, 1.0, 0.001, 1.0, 1.0, 1.0, 1.0, 0.7815861952883962, 0.038837412290622146, 0.001, 0.22735166954149946, 1.0, 1.0, 1.0, 0.001, 1.0, 0.6721201859039704, 0.001, 0.001, 1.0, 0.38246783337353024, 0.001, 1.0, 1.0, 0.001, 1.0, 1.0, 0.05027719950226483, 0.001, 0.001, 0.001, 0.002644450806236842, 0.001, 0.001, 0.07320565750783767, 0.5208022059072926, 0.001, 1.0, 1.0, 1.0, 0.001, 1.0, 0.001, 0.0018660169055251816, 0.0025142499039086793, 0.001, 0.001, 0.001, 0.001, 0.001, 0.008594339660602624, 0.001, 0.001, 0.001, 0.0026383816185330078, 0.0017446737964785031, 0.005488133929020461, 0.001, 0.001, 0.001, 0.001, 0.001, 0.0015042019706068862, 0.005961182528263042, 0.001, 0.001, 0.001, 0.001, 0.016430570355673364, 0.001, 0.001, 0.001, 0.001, 0.001, 0.001, 0.001, 0.001, 0.022177164144711405, 0.001, 0.001, 0.001, 0.001, 0.001, 0.001, 0.001, 0.0020432288524452414, 0.001, 0.006870080269989938, 0.008297856044666029, 0.001, 0.001, 0.001, 0.021763703865194682, 0.014703233872388937, 0.011333897375197872, 0.008942328329239461, 0.0010727059327968356, 0.001, 0.006272314124700329, 0.001, 0.004271704473667996, 0.001, 0.001, 0.001, 0.001, 0.001, 1.0, 0.5504486184756875, 0.001, 0.001, 1.0, 0.001, 0.001, 0.5637185073636107, 0.0858751975929389, 0.001, 0.001, 0.5972557743711762, 0.0022208938464785915, 0.001, 0.001, 0.001, 0.004002060424949594, 0.006352951271720268, 0.0011609420722219616, 0.0012363506227203499, 0.07215359930126539, 1.0, 0.038882679458776215, 0.001, 0.03469391547105747, 0.001, 1.0, 0.001, 0.001, 0.001, 0.5761185659864377, 0.7990543992374576, 0.04553504262590202, 0.058449046233489, 0.6681694059199242, 0.7298337125940095, 0.001, 1.0, 0.009541287680724984, 1.0, 1.0, 0.6620512372115798, 1.0, 0.001, 0.6293658153293774, 0.6029313733137741, 1.0, 0.5881242439934046, 1.0, 0.001, 0.001, 0.5680064823962974, 0.001, 1.0, 0.001, 1.0, 0.9980489918133828, 0.5997602141917721, 0.021429679257694123, 0.6316918781017863, 1.0, 0.6577963609572524, 0.001, 0.001, 0.001, 0.001000212052365391, 0.001, 1.0, 0.001, 0.001, 0.001, 0.001, 0.001, 0.001, 0.001, 0.08591332055816656, 0.001, 1.0, 0.001, 0.001, 0.001, 0.0064114957363586, 0.001, 0.001, 0.001, 1.0, 0.001, 0.001, 0.001, 1.0, 0.001, 0.06470450156643501, 0.001, 0.001, 0.001, 0.0010000107360577336, 0.001, 0.001, 0.001, 1.0, 1.0, 0.001, 0.010105395112393625, 0.004358572741609961, 0.001, 0.001, 0.001, 0.0010024765079640963, 0.001, 1.0, 0.011098756826432766, 0.8800584665004029, 0.001, 1.0, 1.0, 1.0, 0.5677640725840638, 0.6284802413799033, 0.001, 0.02556899010592396, 0.01013929275175529, 0.001, 0.6930214760300667, 0.001, 0.001, 0.2543869561762554, 0.001000007308488775, 0.09594662879132969, 0.001, 0.001, 0.02393350046851955, 0.0010000062639968044, 0.6273200524361018, 0.10589680930643003, 0.001, 0.001, 1.0, 1.0, 0.001, 0.0010000003527788751, 0.021006899615257025, 0.001, 0.001, 0.0043420270425879514, 0.6240005099508482, 1.0, 0.3239522772595669, 1.0, 1.0, 0.011063473640119389, 0.001, 0.019549731389910823, 0.008380081374339725, 0.001, 1.0, 0.0010000001441198057, 0.004765831198959585, 0.001, 0.001021987015519313, 0.001, 0.01295065786323636, 0.001, 0.001, 1.0, 0.8554020591585825, 0.001, 1.0, 0.374272890754833, 0.001, 0.22787650522762973, 0.001, 0.001, 0.001, 0.001, 0.009198939137179894, 0.016045037775064084, 1.0, 0.014110187846682309, 1.0, 0.004846681253674063, 1.0, 0.001, 0.001, 1.0, 0.001, 1.0, 1.0, 0.7943425549371284, 1.0, 0.0020034761665383397, 1.0, 0.001, 0.010152964816310414, 0.003928594249621407, 1.0, 0.001, 1.0, 0.001, 0.001, 1.0, 0.001, 0.001, 0.001, 0.001, 0.018548401368011617, 1.0, 0.012775666826715035, 0.006822120905385825, 0.001, 0.4791160278464669, 1.0, 0.0029959098945851535, 0.001, 1.0, 1.0, 0.00100003077013862, 0.7335147745417079, 0.5305455492747326, 0.001, 1.0, 1.0, 1.0, 0.006914731777001731, 1.0, 0.001, 0.001, 0.001, 0.010844282884752617, 1.0, 0.012654699467943363, 0.001, 0.06599799151960241, 0.001, 0.0138083529807644, 1.0, 1.0, 1.0, 0.013403217548034328, 1.0, 0.001, 1.0, 1.0, 0.001, 0.001, 0.02136455672697566, 0.001, 0.001, 1.0, 1.0, 0.001, 1.0, 0.001, 0.001, 0.001, 0.001, 0.0010017479624131072, 0.005740877306586824, 0.011162644926215553, 0.6028718791199914, 1.0, 0.001, 0.001, 0.001, 0.0616474672563761, 0.001, 0.8504904195152433, 1.0, 0.0016644007241616206, 0.001, 0.02225665174314758, 0.9885265700104174, 1.0, 0.001, 1.0, 0.001, 0.001, 0.001, 1.0, 0.011939768976948517, 0.001, 0.001, 0.001, 0.001, 1.0, 0.004655665635617736, 0.001, 0.001, 0.001, 1.0, 0.022595511956028335, 0.001, 0.001, 0.001, 0.0010002511054258121, 0.001, 1.0, 0.001, 0.001, 0.0010000448663938677, 1.0, 0.001, 0.0025088521703968704, 0.08192014661964346, 0.001, 1.0, 0.09727256973596608, 0.001, 0.017715759674112264, 0.001, 0.001, 0.0010000002622570392, 0.001000038107384035, 0.001, 0.001, 0.001, 1.0, 0.001, 0.0010174687688468923, 0.001, 0.001, 0.007420395066891094, 1.0, 1.0, 1.0, 0.013128322895241115, 0.001, 0.0010342095602501645, 0.003364255651405462, 0.001, 1.0, 0.26876993852911035, 0.001, 0.001, 0.8693288736737633, 0.013819902653144691, 1.0, 0.007838075921466216, 0.001, 0.001, 1.0, 1.0, 0.644498911186791, 0.001, 0.012443937718750818, 1.0, 1.0, 0.001, 0.001, 1.0, 0.007379011234343639, 0.0010000212296844703, 0.001, 0.0032943588783710333, 1.0, 0.001, 0.8473138178340359, 1.0, 1.0, 0.001, 0.001, 0.9542183499084408, 1.0, 0.007684284853180325, 0.023296051889653346, 0.001, 1.0, 1.0, 0.001, 0.007023129058771059, 0.001, 1.0, 0.001, 0.0017381287854209761, 0.001, 0.001, 0.001, 0.001, 1.0, 1.0, 0.0017399793389472002, 0.001, 0.7374334857988353, 0.001, 0.001, 1.0, 0.001, 1.0, 1.0, 0.001, 0.6768664392703093, 0.7225766162210615, 0.001, 0.6230455958050224, 0.10074787401416023, 0.001, 0.001, 0.001, 1.0, 0.001, 1.0, 0.014302303715989917, 0.001, 0.017987029153442805, 0.001, 1.0, 1.0, 0.18372581531061952, 0.001, 0.7827957553623196, 0.001, 1.0, 0.001, 0.001000063501050603, 0.001, 1.0, 0.05534665024171027, 0.09656193109432652, 1.0, 0.001, 0.025001384590953243, 0.001, 0.001, 0.001, 0.001, 0.011127793776551102, 0.021704294931564082, 0.001, 1.0, 0.001, 0.001, 1.0, 0.0010105234551444629, 0.005408167146538983, 0.001, 1.0, 0.04498110198732837, 0.02612203277620926, 1.0, 0.6292127389460499, 0.9720685173817685, 0.47507633154294066, 0.001, 0.0034853855626432494, 0.001, 1.0, 1.0, 0.02755618332688589, 0.001, 0.001, 1.0, 0.001, 0.30845944274110876, 0.001, 0.001, 0.001, 0.0010000261350293848, 1.0, 0.07014592659969986, 0.001, 0.03006724680237364, 0.001, 1.0, 1.0, 0.030897616646735772, 0.00352909978978345, 1.0, 1.0, 0.001, 1.0, 0.001, 0.001, 0.0015322898141341861, 0.001, 1.0, 0.11779605675315162, 0.001, 0.001, 0.0010000058500317123, 0.010282653090771478, 0.001, 0.0010095631272500837, 0.6909923168160264, 1.0, 0.001, 0.00100361921614336, 0.002675381426380847, 0.001, 0.001, 0.0010012106368073247, 0.001, 0.004497016275976424, 0.007079682127804787, 0.027390893177414864, 0.001, 0.001, 0.001, 0.001, 0.0014897328788940772, 0.015043946484605768, 0.001, 1.0, 1.0, 0.4482741412223409, 1.0, 0.001, 1.0, 0.001, 0.001, 1.0, 0.001, 0.8687119793060626, 0.004813094516175405, 0.001, 0.001, 0.001, 0.001, 0.001, 1.0, 0.011752826605475422, 0.5731944219917665, 1.0, 0.8411297228641141, 0.5630693868676181, 0.0021261020520023416, 1.0, 0.005866304982340603, 1.0, 1.0, 1.0, 0.001, 1.0, 0.001, 0.001, 1.0, 1.0, 0.001, 0.6567497656345668, 1.0, 0.004772287557070843, 0.6581237145428841, 0.001, 1.0, 0.013383605339218209, 0.001, 0.7931987358628982, 0.001, 1.0, 0.001, 0.001, 0.001, 0.00747559738974041, 1.0, 0.886898748219496, 0.001, 0.001, 0.001, 0.014084647649591445, 0.8341615817850696, 0.42536118932443273, 0.001, 1.0, 1.0, 1.0, 1.0, 0.001, 0.001, 0.001, 0.04737551256521008, 1.0, 0.001, 0.001, 0.02909964744444302, 0.001, 1.0, 0.019046265080750645, 0.9208748882245205, 1.0, 0.001, 0.001, 1.0, 1.0, 0.4633838015848917, 0.001, 0.001, 0.0010360314174032838, 0.001, 0.009411970251977283, 0.001, 0.016128795658591467, 0.001, 0.001, 0.937810674681415, 0.001, 0.001, 0.957029564924132, 0.001, 1.0, 0.001, 0.001, 0.001, 0.9341867148219268, 1.0, 0.0010021148751592937, 0.001, 1.0, 0.7864059878501064, 0.001, 0.01587518981503805, 0.004888988754869513, 0.040828398681785456, 0.001, 0.001, 0.001, 0.001, 0.001, 0.001, 0.001, 0.2539628363276101, 0.2077132141201678, 0.001, 0.001, 0.004353447670357594, 0.001, 0.001, 1.0, 0.001, 1.0, 0.6540322760462497, 0.001, 0.001, 0.03402657375508375, 0.6462284906708016, 0.18112447482358213, 1.0, 1.0, 0.001, 0.04939121874063596, 0.001, 0.001000038703715371, 1.0, 0.001, 0.001, 0.001, 0.001, 0.38930610643804153, 0.0032959353093078014, 0.001, 1.0, 1.0, 0.38749375669824454, 1.0, 0.005383659051905432, 1.0, 0.001, 0.001, 0.001, 0.9313305083679545, 0.001, 0.011150173211420023, 1.0, 1.0, 0.016762042502963235, 0.002764498543737799, 0.001, 0.001, 1.0, 0.001, 0.02773028164574055, 0.06927048221117964, 0.8588667090533754, 0.06233365931662994, 0.001, 1.0, 0.0010001343610405156, 0.001200643491020371, 0.001, 1.0, 0.001, 0.001, 1.0, 0.5902009386014336, 0.001, 0.001, 1.0, 0.001, 0.7356670215668213, 0.0010155084721858562, 0.001, 0.013817603461947114, 0.001, 1.0, 0.001, 0.001, 0.001, 0.001, 1.0, 0.001, 1.0, 1.0, 0.001, 0.001, 1.0, 0.001, 1.0, 0.001, 1.0, 0.7625091665842852, 1.0, 0.7690542993666115, 1.0, 0.001, 1.0, 0.001, 1.0, 0.001, 1.0, 0.001, 0.11800275831411423, 0.001, 0.001, 1.0, 0.001, 0.001, 0.10703563515230767, 0.001, 0.001, 0.001, 0.004589305257721444, 0.001, 0.671440722605224, 1.0, 0.001, 0.001, 1.0, 0.843093309841861, 0.04854225574908914, 1.0, 0.6184965727621836, 1.0, 1.0, 0.001, 0.001, 0.001, 0.001, 1.0, 0.07554854338100468, 0.06838687012090755, 0.8613927862654082, 0.07743283432567469, 0.001, 0.001, 0.7601243591686802, 1.0, 0.001, 0.016915169084433, 1.0, 0.001, 0.001, 0.001, 0.5107608212009489, 0.3041122887160785, 0.001, 0.010477685323797614, 1.0, 1.0, 0.005041526738905056, 0.6617539903516632, 0.17790815809218113, 1.0, 0.001, 0.001, 1.0, 1.0, 0.001, 0.001, 0.001, 1.0, 0.001, 0.0010003659110781311, 1.0, 1.0, 0.001, 1.0, 0.001, 0.001, 0.001, 0.0010000774924601734, 1.0, 0.49109279811377077, 0.001, 0.6077802845813122, 0.001, 0.12062321962882004, 0.0010160337379095863, 0.012784561675674537, 0.7153069192942293, 0.001, 1.0, 1.0, 1.0, 1.0, 0.001, 1.0, 0.001, 0.001, 0.001, 1.0, 1.0, 0.001, 0.7198952325608708, 0.3647477075678193, 0.001, 1.0, 1.0, 0.001, 1.0, 1.0, 0.001, 1.0, 1.0, 1.0, 0.001, 0.35409252934820634, 0.001, 0.001, 0.001, 1.0, 0.001, 0.0014567570422347037, 0.001, 0.3977162274044923, 0.011470036379181349, 0.001, 0.8287372066611334, 0.01713840992124767, 0.46768799897566143, 0.018934998419812405, 1.0, 1.0, 0.004414598424722111, 0.001, 1.0, 0.001, 0.001, 0.001, 0.0031150153303993147, 0.001, 1.0, 0.001, 0.6557032336210736, 1.0, 0.001, 0.0065319423886008, 0.9889656848988035, 0.001, 1.0, 0.001, 0.001, 0.02394429143653865, 0.001, 0.001, 0.001, 1.0, 1.0, 1.0, 0.001, 0.001, 1.0, 0.02769970808687361, 0.001, 0.002025794622187753, 1.0, 0.013087468594423817, 1.0, 0.001, 0.017797078209145275, 1.0, 0.001, 0.001, 0.001, 1.0, 1.0, 0.019387123344583482, 0.001, 0.001, 0.001, 1.0, 0.00576788291888216, 0.3385285293107147, 0.001, 0.001, 0.018216377509201402, 0.001, 0.001, 0.001, 1.0, 0.001, 0.001, 1.0, 0.001, 1.0, 0.001, 1.0, 0.001016931742908597, 0.0017316027022172193, 0.2992624807420499, 0.014049667731846268, 1.0, 1.0, 0.8969399130348182, 0.001, 0.9983526208794993, 0.001, 0.002499417746586068, 0.001, 0.007856440103342383, 1.0, 1.0, 0.001, 0.001, 1.0, 0.001, 0.001, 0.01722285691600144, 1.0, 1.0, 0.001, 0.0010001993866279079, 0.0010013828785898086, 0.001, 0.9054689381011993, 1.0, 0.006507870253073269, 1.0, 0.001, 0.001, 0.0010007443883950087, 0.001, 0.016580966297742236, 0.001, 0.001, 0.010897373679502774, 0.001, 0.001, 0.4091052673324666, 0.07703056446888558, 0.0010260272601605087, 0.001, 1.0, 1.0, 1.0, 0.001, 1.0, 0.004215084685517764, 1.0, 0.001, 0.001, 1.0, 0.001, 0.6517997372033931, 0.001, 0.001, 0.001, 0.001, 0.001, 0.0011938106977927771, 0.001, 0.0010000053676434127, 0.001, 0.001, 0.001, 1.0, 0.001, 1.0, 0.001, 0.008590139617729756, 0.001, 1.0, 0.001, 1.0, 0.001, 0.001, 0.001, 0.001, 0.0010000629931284305, 0.06997615167837644, 1.0, 0.006700738994841547, 0.001, 0.001, 0.001, 0.001, 0.001, 0.001, 1.0, 0.001, 0.001, 1.0, 0.001, 0.001, 0.0010006422093559086, 0.001, 0.001, 0.001, 1.0, 0.03900686568733824, 0.001, 0.001, 0.010009173310249777, 1.0, 0.001, 0.001, 0.001, 1.0, 0.001, 0.001, 1.0, 0.001, 1.0, 0.001, 0.001, 0.0029902378191159124, 0.001, 0.001, 0.001, 0.001, 0.001, 0.001, 0.001, 0.001, 0.7355966917648925, 0.0022395978165584683, 0.01771754075141355, 0.001, 0.001, 0.6581101428781485, 1.0, 0.001, 0.001, 0.001, 1.0, 0.001, 0.001, 0.001, 0.001, 0.001, 0.0010029398454690515, 0.01442508543677732, 0.001, 0.001, 0.00535854686300907, 0.001, 0.001, 0.001, 0.001, 0.021201639600114754, 0.001, 0.001, 0.001, 0.001, 0.001, 0.001, 0.001, 0.957633884136064, 0.0010003986070589565, 1.0, 1.0, 0.001, 1.0, 0.001, 0.001, 0.001, 0.001, 0.001, 1.0, 0.001, 0.025522712725733, 0.001, 1.0, 1.0, 1.0, 0.002575236015402842, 0.004947991513237645, 0.001, 0.016385805569822883, 0.001, 0.001, 0.001, 1.0, 1.0, 0.00100013431505657, 0.001, 0.01246831005604588, 0.001, 0.001, 0.01349108385760668, 0.001, 0.026380220425988237, 0.001, 0.0027866062556286654, 0.001, 1.0, 0.00650812908452858, 0.8962570004247399, 0.001, 0.3267178784425323, 0.0011466797025222312, 1.0, 0.0030055343863127043, 0.001, 0.8042301544468231, 0.001, 0.0019949679085182292, 0.001, 0.001, 0.005577875668325554, 0.001, 0.001, 0.3747533572831636, 0.001, 0.005154497827091668, 0.019709108302309968, 0.03693531836151563, 1.0, 0.012662412505577252, 0.0010012917127876562, 0.001, 1.0, 1.0, 1.0, 1.0, 0.010612127558884854, 0.001, 0.001, 0.001, 0.0012647544962312413, 0.001, 0.001, 0.001, 1.0, 0.001, 0.001, 0.8189716455657321, 1.0, 0.001, 0.001, 0.6253373403533437, 0.0025122251247639378, 0.001, 0.00101728596078845, 0.008096780991210334, 0.001, 0.3697307123584242, 0.056255973158651836, 0.001, 1.0, 0.001, 0.020709958205057916, 0.013228564532175604, 0.0020766755089845416, 0.001, 0.001, 0.001, 0.08410620899693545, 0.8476278868894178, 0.001, 1.0, 0.001, 0.001, 0.001, 0.013356706527651332, 1.0, 0.003449738831868011, 0.012159339908403094, 0.001, 0.005259463830826097, 0.001, 0.001, 1.0, 0.0036858451291079306, 0.001, 0.011364552660293688, 0.001, 0.9181214437904814, 0.6110968764897203, 0.013904048282945171, 0.9345732071681445, 0.01154282803853504, 0.0025810087871063463, 1.0, 1.0, 0.001, 0.001, 0.001, 0.001, 1.0, 1.0, 0.03548754755680183, 0.001, 0.001, 0.001, 0.0010000030159631687, 0.001, 0.001, 0.001, 1.0, 0.015910731318409848, 0.001, 0.001, 0.001, 0.001, 1.0, 0.021380972670246964, 0.001, 1.0, 0.0015200766416013786, 0.001, 0.001, 0.001, 0.001, 0.001, 0.001, 0.0010546990843431068, 0.001, 0.01332672740862963, 0.003506104988754231, 0.017740783637914277, 0.006051677909341112, 0.0031636406683993876, 0.001, 0.001, 1.0, 0.010776901173614522, 0.004602103516639732, 0.001, 0.001, 0.031094714318190487, 0.001, 0.001, 0.001, 0.6655348133911233, 0.0010000410103613926, 0.001, 0.012014233969087705, 1.0, 1.0, 0.001040518097021395, 0.001, 0.004032294732835562, 0.020919528110877616, 0.001, 0.001, 0.001, 1.0, 1.0, 0.0012864321798406013, 0.003629068711175254, 0.001, 0.001, 0.001, 0.001, 0.001, 0.008503287746074634, 1.0, 0.001, 0.009307862382663928, 0.0010000001261572735, 0.026659836016336865, 0.001, 0.001, 1.0, 0.001, 0.08240862110116291, 0.001, 0.00966166836436281, 0.0018563226247150842, 0.001, 0.6113295234269774, 0.001, 0.0030838914194542856, 1.0, 0.004599052008084652, 1.0, 1.0, 1.0, 0.001, 0.001, 0.005196452819116367, 0.002608962128823231, 0.001, 0.013358154180789686, 0.001, 0.001, 0.0016011895276631662, 0.001, 1.0, 0.00557170206278072, 0.001, 0.02152081836893214, 0.006191318930142245, 0.001, 0.001, 0.001, 1.0, 0.05712794482011982, 1.0, 0.001, 0.001, 0.001, 0.02729137148482792, 0.001, 0.0013188213470692908, 0.0455555082004508, 0.0010001869067563052, 0.007414508765505912, 0.001, 0.001, 0.003029581384165469, 0.0010000005534943348, 0.007053948516898861, 0.001, 0.001, 0.0010001454081503044, 0.001, 0.017611035999435507, 0.001, 0.001, 0.013545223718535265, 0.001, 0.005015274247439591, 1.0, 1.0, 0.001, 0.7150938247425606, 0.001, 0.0010000000586627292, 0.024621036564045254, 0.04949388956241742, 0.9553810610540782, 1.0, 0.001, 0.01081857227290324, 0.001, 0.001, 0.001, 0.001, 0.0026747860743410287, 0.001, 0.001, 0.015479192369648795, 0.001, 0.001, 1.0, 0.002141293670522075, 0.001, 0.03987248550734733, 0.953705958484438, 0.001, 0.001, 0.001, 0.001, 0.2740365572496095, 0.001, 0.001, 0.8492077642256497, 0.001, 1.0, 0.001, 0.023835602955302373, 0.011372178333677674, 0.01679423407753657, 0.001, 0.001, 0.001, 0.03050415920514558, 0.001, 0.001, 0.001, 0.001, 1.0, 1.0, 1.0, 0.0010000038789244184, 1.0, 0.001, 0.005717005974189312, 0.001, 0.014889726125796442, 0.007589878125590871, 1.0, 0.01066504992974666, 0.001, 0.7380729375313675, 0.001, 1.0, 0.001, 0.001, 0.00785512947464404, 0.6454689052280712, 0.001, 0.7933733649830588, 1.0, 0.0010368379909083823, 0.0010736280687426586, 0.001, 0.001, 0.001, 0.001, 0.001, 0.001, 0.008504215403244674, 0.826649799638272, 0.001, 0.003596515927026842, 0.008786410822834814, 1.0, 0.001, 0.01453054730684947, 0.015146189633333286, 0.021475783592774748, 1.0, 0.0010014339744205151, 0.01856186234370623, 0.01666949885036461, 0.3208917888330732, 0.001, 0.00442567505788782, 1.0, 0.001, 0.001, 1.0, 1.0, 1.0, 1.0, 0.001, 1.0, 0.005044856902135428, 0.001, 0.013610210286980147, 0.001, 1.0, 0.001, 0.001, 0.01380982143004742, 1.0, 0.005097070349479136, 1.0, 0.17394053201829668, 1.0, 0.001, 0.001, 1.0, 0.5036483841274344, 0.001, 0.001, 0.001, 0.001, 0.001, 1.0, 1.0, 0.001, 0.0052706833295040525, 1.0, 1.0, 0.8346131757022619, 0.18799300236758773, 1.0, 0.001, 0.0010303500326822041, 0.0018227605449898476, 1.0, 1.0, 0.001, 0.4409046456194413, 1.0, 0.001, 0.001, 0.001, 0.001, 0.001, 0.001000934996975836, 1.0, 0.001, 0.001, 0.001, 0.001, 0.001, 1.0, 0.001, 1.0, 0.6444859535628772, 0.004364417751641374, 1.0, 1.0, 0.001, 0.001, 0.001, 0.001, 1.0, 0.001, 0.001, 0.005557973528990223, 0.7039084663771855, 0.001, 0.001, 0.001, 0.001, 1.0, 0.9494797826655785, 0.001, 0.001, 0.807695090695121, 0.001, 0.001, 0.001, 0.0047761412815382764, 0.001, 1.0, 0.001, 0.0029510070412867907, 0.001, 0.001, 1.0, 0.0117532676127807, 0.001, 0.001, 1.0, 1.0, 0.004416427930281265, 1.0, 0.660337520172455, 0.001, 0.008372864650041856, 0.0011096064108055146, 0.01865761044495036, 0.9797042350701713, 0.0212764874861051, 1.0, 0.020558187940850643, 0.1555789946371862, 1.0, 0.001, 0.03774541986486358, 0.001, 0.001, 0.001, 0.017774434141556127, 1.0, 0.03100856515429229, 1.0, 0.001, 0.001, 0.001, 1.0, 0.001, 0.001, 0.001, 0.010319560238883727, 0.0040055075335990896, 0.29450752848207523, 1.0, 1.0, 0.8712019705217082, 0.001, 0.001, 0.016981032016794313, 0.01076197756418038, 0.0010405981500011456, 0.001, 0.001, 0.06645396582843961, 0.02057173580309272, 0.001, 0.001, 0.001051601422752618, 1.0, 0.03426343169134138, 0.001, 0.001, 0.05740905365276036, 0.6518456492455758, 0.001, 0.041278112059849256, 0.001, 0.5542790415064213, 1.0, 1.0, 0.0010002481522006829, 0.7675924375632, 1.0, 1.0, 0.012308194237327067, 1.0, 0.025685091483584322, 0.0010000340111172902, 1.0, 1.0, 0.013922471396839211, 1.0, 0.001, 1.0, 0.011665072908931455, 0.931986108476071, 1.0, 0.001, 0.004297857976147253, 0.001, 0.5467083197565069, 1.0, 1.0, 0.001, 0.001, 0.001, 0.9592459343441349, 1.0, 0.010506452385134764, 0.011969064658020263, 0.5567580343877541, 0.001, 0.007935750958736122, 0.001, 1.0, 1.0, 0.35371819164241275, 0.001, 1.0, 0.001, 1.0, 0.9832027413832224, 0.001, 0.001, 1.0, 1.0, 0.001, 0.001, 0.001, 0.010883974986336045, 0.001, 1.0, 0.002539420132064041, 0.001, 1.0, 1.0, 0.001, 0.5854891538566889, 0.001, 0.6863633240185342, 0.01728649199752322, 0.001, 0.004204340115880727, 0.001, 0.001, 0.001, 0.001, 0.001, 0.001, 0.001, 0.011022834971178131, 0.001, 0.002861412473879515, 1.0, 0.001, 0.001, 0.001, 0.001, 0.001, 0.001, 1.0, 0.001, 0.001, 0.4761118480054095, 0.006728790092911666, 0.009422003445788144, 0.0025644569040120155, 0.0012258595083091044, 1.0, 0.001, 0.001, 1.0, 1.0, 0.7195261529185005, 0.005218656263837546, 0.001, 0.001, 0.03223662482788821, 0.001, 0.001, 0.010890142182461903, 0.001, 0.05013033311147225, 0.001, 0.001, 0.001, 0.001, 1.0, 0.6682571533198327, 0.001, 0.001, 0.001, 0.001, 0.001, 1.0, 0.5733004735665544, 0.001, 0.001, 1.0, 0.001, 0.001, 0.001, 0.001, 0.001, 0.0027838729851020873, 0.001, 0.001000070951670805, 0.001, 0.011764996343022546, 0.03950836741670622, 0.001, 0.001, 0.001, 0.014128778747967594, 0.011958382971467639, 0.01308941529650665, 0.001, 1.0, 0.001, 0.9257604400410021, 0.001, 0.001, 1.0, 0.008821611202520624, 0.001, 1.0, 1.0, 1.0, 0.9732784552032361, 0.001, 0.001, 0.001, 0.001, 1.0, 0.0011142296055076547, 0.001021716388336307, 0.001, 0.001, 0.001, 0.001, 0.001, 0.001, 0.001, 0.8384136709364197, 0.014199574548579888, 0.001, 1.0, 0.001, 1.0, 0.001, 0.011367837333539271, 0.001, 0.01698166298727231, 0.001, 0.001, 0.6358668836789095, 0.001, 0.001, 0.001, 0.001, 0.001, 0.001, 0.003311406182460788, 0.001, 1.0, 0.0010386225383170414, 0.001, 0.001, 0.0011073884499206636, 0.00597580248002546, 0.0015582948443017223, 1.0, 1.0, 0.001, 0.001, 0.001, 0.001, 0.001, 0.5941528341779083, 0.001, 1.0, 1.0, 0.001, 0.001, 0.09078480938909327, 0.001, 0.001, 0.001006567890977461, 0.001, 0.026565603520236947, 0.007110198888813388, 0.001, 1.0, 0.9884061274473193, 0.001, 0.001, 0.6594679148612204, 0.001, 0.5862932414445571, 1.0, 0.001, 0.001, 0.001, 0.001, 0.686479612928374, 0.001, 1.0, 0.001, 0.001, 1.0, 0.001, 0.001, 1.0, 0.001, 0.001, 0.15226947620519166, 1.0, 0.001, 1.0, 0.001, 0.001, 0.001, 1.0, 0.001, 0.19281698361420196, 1.0, 0.7770765814912746, 1.0, 0.001, 0.001, 0.001, 0.001, 0.37230434805229307, 0.001, 1.0, 1.0, 0.013978220588295114, 0.001, 0.0271161503984953, 1.0, 1.0, 0.001, 0.001, 0.001, 0.0013148754679585158, 0.0010000001211310982, 1.0, 0.001, 1.0, 0.004977034244802544, 0.001, 1.0, 0.001, 0.001, 0.001, 0.001, 0.001, 0.001, 0.08254200425450738, 0.001, 0.6537978488134036, 0.027050999515208687, 1.0, 0.9495743203370294, 1.0, 0.001, 0.001, 0.001, 0.001, 1.0, 1.0, 0.001, 0.026149558357663704, 0.01797624185150324, 0.8516814692514665, 1.0, 0.0026760602248704015, 1.0, 0.001, 0.001, 0.06668427928149825, 0.001, 0.001, 0.001, 0.001, 0.001, 0.001, 0.001, 0.001, 0.001, 0.001, 0.001, 0.001, 0.026792776861136985, 0.001, 0.001, 1.0, 0.001, 0.014705125369361307, 0.001, 0.0010006943463408385, 0.001, 0.0010000001936067173, 0.001, 0.01061255006462581, 0.31485150311457055, 0.001, 1.0, 0.09786464639356508, 0.023029402379572354, 0.001, 1.0, 0.8786311930063843, 0.6665569912045567, 0.001, 0.001, 0.001, 1.0, 0.5883627848661065, 0.9436829044122229, 0.001, 1.0, 1.0, 1.0, 1.0, 1.0, 0.001, 0.8181463668950691, 0.001, 0.001, 0.5614575791055336, 1.0, 0.7091619127463852, 1.0, 0.001, 0.0010008249770809376, 0.001, 1.0, 0.001, 0.001, 0.001, 0.001, 1.0, 0.5058592480943851, 0.001, 0.001, 0.001, 0.9575344991513592, 1.0, 0.001, 0.0017375808585364779, 1.0, 0.001, 0.001, 0.001, 0.001, 0.0326146430308067, 1.0, 0.001, 0.016352634398135803, 0.001, 0.001, 0.001, 0.7375957720067239, 0.028785254726325038, 0.003219788039871323, 0.001, 0.6937974889291484, 1.0, 1.0, 0.9247584985879173, 0.005322561989535441, 0.001, 0.001, 0.001, 0.612958825499073, 0.014433143042152296, 1.0, 1.0, 0.001, 0.001, 1.0, 0.0020441961702728838, 1.0, 0.001, 0.001, 0.001, 0.36313949881231716, 1.0, 1.0, 1.0, 0.001, 0.012286543645906587, 0.001, 0.001, 1.0, 0.5392202332024776, 0.001, 0.001, 0.0010023308206773122, 1.0, 0.001, 0.001, 0.001, 1.0, 0.001, 1.0, 0.001, 0.08761477800772663, 0.001, 0.001, 1.0, 0.001, 0.8258833021531004, 0.001, 0.01185566037939663, 0.1750685845242509, 0.001349824223446876, 0.001, 0.001, 0.001, 1.0, 0.001, 0.001, 0.015233044871307014, 0.001, 1.0, 1.0, 0.001, 0.001, 0.001, 0.004879610561105605, 0.006895724371249734, 0.001, 0.9225917513550246, 0.001, 0.001, 0.49782084523886555, 0.001, 1.0, 0.001, 0.001, 0.001, 1.0, 0.001, 0.5005102293010388, 0.001, 0.001, 1.0, 1.0, 0.001, 1.0, 0.001, 1.0, 0.001, 0.001, 0.4023133899836687, 1.0, 1.0, 0.001, 0.0016836162747984166, 0.001, 0.001, 1.0, 0.001, 1.0, 0.001, 0.001, 1.0, 0.001, 1.0, 0.7614793641435798, 0.001000000190856241, 0.001, 1.0, 0.001, 0.008159548021389925, 0.001, 0.001, 0.001, 0.01722600580564421, 0.029045162512673157, 0.001, 0.001, 0.001, 0.0013264143862372034, 0.004784764402957225, 1.0, 0.001, 0.9365456781521159, 0.001, 0.001, 0.001, 0.7546910130959499, 0.01581128945910359, 0.001, 0.001, 1.0, 0.023188855658284747, 1.0, 1.0, 1.0, 0.001, 0.001, 0.574880894530487, 0.002663002743486366, 0.007699887881517473, 0.001, 1.0, 0.001, 0.001, 0.001, 0.001, 1.0, 1.0, 0.001, 0.701963077394961, 1.0, 0.001, 0.001, 1.0, 0.001, 1.0, 1.0, 0.001, 0.001, 0.006153347440835091, 1.0, 0.001, 1.0, 0.001, 0.001, 0.0039252550640614765, 0.001, 0.001, 1.0, 0.7563566088810807, 1.0, 1.0, 0.008441461922759904, 1.0, 0.001, 0.001, 0.001, 1.0, 1.0, 0.0010013831104486407, 0.0021010183180725354, 0.001, 0.001, 1.0, 0.001, 0.0010000008167708615, 1.0, 0.001, 0.8546222516060891, 0.001, 1.0, 0.6345094864792004, 1.0, 0.001, 1.0, 1.0, 0.001, 0.001, 0.001, 1.0, 0.00834928078050863, 0.001, 1.0, 1.0, 0.008035267512907812, 0.001, 1.0, 1.0, 0.505551302742098, 0.001, 0.001, 1.0, 0.0083160878328091, 0.001, 0.001, 0.001, 1.0, 0.010007659983758254, 1.0, 0.001, 1.0, 0.001, 0.001, 0.001, 0.001, 1.0, 1.0, 0.001, 0.004039145816307348, 0.001, 0.001, 0.01805963274276358, 0.001, 0.001, 1.0, 1.0, 0.001, 0.001, 0.001, 0.001, 0.001, 0.001, 0.001, 1.0, 0.001, 1.0, 1.0, 0.0019818636492463285, 0.001, 0.001, 0.001, 0.001, 0.005382156417880745, 0.005371287085209289, 0.001, 0.001, 1.0, 0.001, 1.0, 0.010427285290942721, 0.001, 0.001063372419395819, 1.0, 0.001, 0.001005686455095602, 0.001, 0.001, 0.001, 0.001, 0.8537719057702635, 1.0, 1.0, 0.001, 0.001, 1.0, 1.0, 0.001, 0.001, 0.001, 0.001, 0.001000332770687712, 0.001, 1.0, 0.001, 0.001, 1.0, 0.001, 0.001, 0.001, 1.0, 1.0, 1.0, 0.8042985142782363, 0.001, 1.0, 1.0, 0.015614878587089123, 0.7230523445754833, 0.010574795150646596, 0.001, 0.001, 0.001, 0.001, 0.001, 0.001, 0.7498526281283012, 1.0, 1.0, 0.001, 0.001, 0.001, 1.0, 0.001, 0.001, 1.0, 0.001, 0.0026784417224644994, 0.001, 1.0, 0.001, 0.001088624337910132, 1.0, 0.001, 0.0057162088078205565, 0.010515277687681129, 0.003716416065866722, 0.010174180465579455, 0.001, 1.0, 1.0, 0.5736280424162208, 0.001, 1.0, 0.001, 0.5997579895053208, 0.01063736751275232, 0.001, 1.0, 0.006143304283494479, 0.001, 1.0, 0.7793596871358499, 0.001, 1.0, 1.0, 0.016243224212368425, 1.0, 1.0, 0.001, 1.0, 1.0, 1.0, 0.001, 0.010951208319287753, 0.001, 0.001, 0.4432202211104806, 0.0010029631577960778, 1.0, 1.0, 0.001, 1.0, 1.0, 0.0010009262723914573, 0.001, 0.050782712463800665, 0.001, 0.016108276226290328, 0.008297738439408562, 0.001, 0.001, 0.810816030200057, 0.001, 1.0, 0.0011240455064564442, 0.048200996781091715, 0.001, 0.6878768096136906, 1.0, 1.0, 0.001, 1.0, 1.0, 0.01112409467024586, 0.05597719802895899, 0.7871884446415337, 0.001, 1.0, 0.001, 0.001, 0.006890104430066196, 0.001, 0.001, 0.8748159142833382, 0.4643361182054551, 0.001, 0.001, 0.021339594325131273, 0.001, 0.009012784931054058, 0.14643776419958984, 0.9740695579085397, 0.006026073888205193, 0.007510025917823884, 1.0, 1.0, 1.0, 1.0, 0.001, 0.001, 0.010093481204776827, 1.0, 1.0, 0.04360219161802708, 0.0018947301959414044, 1.0, 1.0, 0.001, 0.001, 0.001, 1.0, 0.001, 0.001, 1.0, 1.0, 0.015038009167862422, 0.006324079606808763, 0.001, 1.0, 0.001, 1.0, 1.0, 0.001, 1.0, 0.002735795221381061, 0.001, 0.001, 1.0, 1.0, 0.5338805639051616, 0.001, 0.001, 1.0, 0.001, 0.001, 0.001, 0.7754186072545799, 0.001, 0.001, 1.0, 1.0, 1.0, 0.006939130646319962, 0.001, 0.001, 1.0, 0.34048118752246576, 1.0, 1.0, 0.0029259951090566936, 0.23797206200105583, 1.0, 0.001, 1.0, 0.0035416990707085056, 1.0, 1.0, 0.001, 0.001000000324696037, 1.0, 1.0, 0.001, 0.001, 1.0, 1.0, 1.0, 0.004198201059706428, 0.001, 0.001, 1.0, 1.0, 0.02338972240423083, 0.001, 0.001, 0.9633359235438202, 0.001, 1.0, 0.6724990244156819, 0.001, 0.030707876311452144, 0.001, 1.0, 1.0, 0.001, 0.001, 0.001, 0.001, 0.001, 0.001, 0.001, 0.001, 1.0, 1.0, 0.001, 0.001, 0.007613265157222827, 0.001, 0.3236467641610169, 1.0, 1.0, 0.001, 0.001873826651065282, 0.001, 1.0, 1.0, 0.001, 0.05230012935607527, 0.0017261113082812308, 0.001, 0.001, 0.001, 0.001, 1.0, 0.015253897527998918, 0.14209088823429294, 1.0, 0.9419707855267179, 0.001, 0.0022036087684774567, 0.001, 0.0040839750828508435, 0.001006691214664208, 0.001, 0.001, 1.0, 1.0, 0.001, 0.2382227946834444, 0.006648935543174258, 0.001, 0.001, 0.001, 0.001, 0.8623983693724466, 0.001, 1.0, 0.001, 0.0012232907190139054, 1.0, 0.001, 0.001, 0.755730688373636, 0.001, 1.0, 0.001, 1.0, 0.001, 0.001, 0.7708040658959694, 0.001, 0.001429667046353231, 0.001, 0.001, 0.001, 0.001, 0.001, 1.0, 0.0025363925548620276, 0.001, 0.001, 0.001, 1.0, 0.001, 0.001, 0.001, 0.001, 0.0013850831476121225, 0.001, 0.001, 0.001, 0.001, 0.5062035877844778, 0.6539453030589343, 0.005547337538260086, 0.8455786243799146, 0.001, 1.0, 1.0, 0.5755263909241275, 0.7832878933024761, 1.0, 0.001, 1.0, 0.4936478676250522, 1.0, 0.001, 1.0, 1.0, 1.0, 0.001, 0.001, 1.0, 0.001, 0.6645134157743962, 1.0, 0.0021512107123146324, 0.001759259290081531, 1.0, 0.002313989282838615, 1.0, 0.001, 1.0, 1.0, 0.001923022126794822, 0.0037480853648896857, 0.008546741884229525, 0.001, 1.0, 0.001, 0.001, 1.0, 0.013472586699770105, 0.3847057424794524, 0.001, 0.001, 1.0, 0.001, 0.001, 0.001, 0.9575630827320971, 0.001, 0.001, 0.2741709979136093, 0.001, 0.001, 0.001, 0.0034324873156106107, 0.001, 0.001, 0.001, 0.001, 0.001, 0.001, 0.001, 0.001, 1.0, 0.001, 1.0, 0.9085162804112065, 0.001, 1.0, 0.03577776347096161, 0.48021617369667513, 0.001, 0.001, 0.001, 0.001, 0.001, 1.0, 0.001, 0.001, 0.6562254530278753, 1.0, 0.6174196071039747, 1.0, 1.0, 0.5425032377247225, 0.009546470444763328, 1.0, 0.001, 0.001, 0.001, 0.001, 0.001, 0.5446968542460979, 0.001, 1.0, 0.001, 0.001, 0.001, 0.001, 0.001, 1.0, 1.0, 0.001, 0.001, 1.0, 0.001, 1.0, 0.018738695247550084, 0.20215757504270762, 0.001, 0.001, 0.001, 0.001, 0.038140034990172184, 0.4246389245228519, 0.001, 0.001, 0.021604338622901252, 1.0, 0.001, 0.001, 1.0, 0.001, 1.0, 1.0, 0.001, 0.001, 1.0, 0.001, 0.001, 0.001, 0.001, 0.001, 0.005552475688656761, 0.001, 0.001, 0.001, 0.001, 1.0, 0.001, 1.0, 0.001, 1.0, 1.0, 0.00467673252553479, 0.017122134955168497, 1.0, 0.006339724571631526, 1.0, 0.001, 0.018439628658873837, 0.001, 0.001, 0.0019068056195050297, 1.0, 1.0, 1.0, 0.001, 0.001, 0.001, 0.03723833737980838, 1.0, 0.001, 0.001, 0.001, 0.001, 1.0, 0.6251482165064423, 0.001, 0.007863406970246605, 0.001, 0.012380749699884104, 0.001, 1.0, 0.001, 0.0010517594247890943, 0.001, 0.001, 0.001, 1.0, 0.001, 1.0, 1.0, 0.001, 0.001, 0.5916411755835991, 0.001, 0.001, 0.001, 0.001, 0.001, 0.001, 0.001, 0.001, 0.6044256892044368, 1.0, 1.0, 1.0, 0.7610562415890618, 1.0, 0.001, 0.001, 1.0, 0.001, 0.001, 0.001, 0.006655114900903774, 0.001, 0.001, 0.05424188902283521, 0.001, 0.001, 0.001, 0.001, 0.023251665387823736, 0.001, 0.001, 0.793570629478763, 0.001, 0.008345659851361922, 0.001, 1.0, 1.0, 0.0047068291219066645, 0.7115139580027612, 0.012444943043144632, 0.001, 0.001, 1.0, 0.507348703742106, 0.001, 0.001, 0.001, 1.0, 1.0, 0.001, 0.001, 0.03639617805832007, 0.018995083342022677, 0.007914354837235656, 0.001, 0.7332447215008502, 0.0011859901557351444, 1.0, 0.001, 0.001, 0.001, 0.36330101156121797, 0.001, 0.001, 0.001, 0.001, 0.001, 0.0026616498543926264, 0.001, 0.001, 0.001, 0.001, 0.001, 1.0, 0.001, 0.001, 0.005799545998410521, 1.0, 0.001, 0.001, 0.05838478521928097, 0.001, 0.001, 0.001, 0.001, 0.001, 0.012087135763430195, 0.001, 0.001, 1.0, 0.001, 1.0, 0.4706818096584976, 0.001, 0.0010176246039391456, 0.001, 0.026735926411908015, 0.001, 0.001, 0.001, 0.5756833420931164, 1.0, 0.001, 0.001, 0.001, 0.001, 0.006269104243454278, 1.0, 0.001, 0.001, 0.001, 1.0, 0.001, 1.0, 0.2029339148789536, 0.015544559505634803, 0.001, 0.006257168264919407, 0.001, 0.001, 1.0, 0.011573930562838097, 1.0, 1.0, 1.0, 0.001, 1.0, 0.001, 1.0, 0.8626776344367136, 0.016838737866734517, 1.0, 0.001, 0.6051533828203481, 0.001, 0.0010000234784496428, 0.0010333153162463476, 0.6877124731101623, 0.009087561802460575, 0.001, 1.0, 0.001, 1.0, 0.001, 1.0, 0.006549129989090939, 1.0, 1.0, 1.0, 1.0, 0.001, 0.001, 0.6228961727342079, 0.001546377290954995, 1.0, 0.001, 0.05017749267847555, 0.001, 0.001, 0.001, 0.5231198052395813, 1.0, 0.001, 0.001, 0.001, 0.001, 0.6565204397497559, 1.0, 0.001, 0.001, 0.001, 0.9501541898573714, 0.5761672333801734, 1.0, 0.001, 0.001, 0.001, 1.0, 0.001, 1.0, 1.0, 0.8803800274190352, 0.01768568203838576, 1.0, 1.0, 0.001, 1.0, 0.001, 0.09248975522416614, 1.0, 0.0034856443832546016, 1.0, 0.006079979947751133, 0.001, 1.0, 0.0046467619424879845, 0.001, 0.001, 1.0, 1.0, 0.001, 0.6974140702968483, 1.0, 0.001, 0.001, 0.001, 0.060602052000906535, 0.001, 1.0, 1.0, 0.001, 0.5912442534089524, 1.0, 1.0, 0.5186523890165164, 1.0, 0.001, 1.0, 0.010696907472177896, 0.001, 0.001, 0.006160262047805612, 0.6033984550718322, 0.0010195386372108361, 0.001, 0.001, 0.005919323176253786, 0.012535912467431944, 0.001, 0.001, 1.0, 0.001, 0.001, 1.0, 0.012789538012979943, 0.5787062127751856, 1.0, 1.0, 0.001, 0.007583103019875913, 0.0029712872826909097, 0.001, 0.001, 1.0, 0.001, 0.6807163466658919, 0.001, 0.3997563127353506, 0.001, 0.6513226920974332, 0.5976867320784088, 0.001, 0.001, 1.0, 0.0010001667059160826, 0.001, 0.001, 0.001, 0.0052645042280609735, 0.001, 0.004944855086733737, 0.001, 0.001, 0.6255712686859681, 0.001, 0.001, 1.0, 0.001, 1.0, 0.001, 0.001, 0.001, 0.001, 0.001, 0.001, 0.0019367859250336592, 0.001, 0.001, 1.0, 0.5341966254353274, 0.001, 0.001, 0.563535279647183, 1.0, 0.7119897416828785, 1.0, 1.0, 0.001, 0.001, 0.001, 1.0, 0.001, 1.0, 0.001, 0.001, 0.001, 0.715871954449497, 0.011844598245596182, 0.001, 0.001, 1.0, 0.001, 0.001, 0.001, 1.0, 0.004120178500683754, 0.001, 0.8074415577733239, 0.7229181395911716, 0.010910493418459474, 1.0, 0.001, 0.001, 1.0, 0.001, 0.3185470911780334, 0.7764987071287741, 0.001, 0.001, 0.007489684069827283, 0.001, 0.0013424659464088503, 1.0, 0.6779801251602666, 0.001, 0.001, 0.005335196349167125, 0.001, 0.001, 0.973456071990834, 0.7178375812405607, 0.001, 0.001, 0.001, 0.001, 0.046046061488301884, 1.0, 0.001, 0.001, 0.0035614811304260667, 1.0, 0.001, 0.001, 1.0, 0.0010524527905140149, 0.001, 1.0, 0.0010000279704773843, 0.001, 0.8330459331637291, 1.0, 0.010641364443356642, 1.0, 1.0, 0.001, 0.003669105680879209, 0.014257108678849672, 0.001, 0.001, 0.001808600358507419, 1.0, 1.0, 0.001, 0.001, 0.001, 1.0, 1.0, 1.0, 0.001, 0.6796280595460831, 0.001, 0.006476849474490759, 0.17371652989010755, 1.0, 1.0, 0.9077263331868468, 0.001, 0.0012352506039791534, 0.001, 0.20064162774996444, 0.00285985393129722, 1.0, 0.001, 1.0, 0.001, 0.001, 0.9996279156996637, 0.001, 1.0, 0.001, 0.001, 0.001, 1.0, 0.0011870727670088182, 0.6214137101434387, 0.654657646250045, 0.001, 0.001, 0.001, 0.7517282526029928, 0.6314587142842899, 1.0, 0.001, 0.03149289183188963, 1.0, 1.0, 0.001, 0.001, 0.007106635000039904, 0.014177970951530332, 0.9244140556372944, 0.06648708369387725, 0.001, 0.001, 0.001, 0.001, 0.001, 0.01739300109347874, 0.001, 0.001, 1.0, 0.001, 0.001, 0.001, 0.6573065897966894, 0.5958076717415542, 0.001, 0.001, 0.001, 1.0, 0.001, 0.001, 0.001, 0.001, 0.001, 1.0, 0.001, 0.001, 0.002452263478914284, 0.6995499667652898, 1.0, 0.0268512227717702, 0.001, 1.0, 0.001, 0.001, 0.001, 0.001, 1.0, 0.001, 0.001, 0.006759293843671654, 1.0, 0.001, 0.26646537206578635, 0.001, 0.001, 0.023565750114623377, 0.001, 0.001, 0.802146926793629, 0.15523941995038593, 0.001, 0.001, 0.026943214105409268, 1.0, 0.001, 1.0, 0.001, 1.0, 0.001, 0.001, 0.001, 0.001, 0.001, 0.001, 0.001, 0.001, 0.02260963320005601, 0.001, 1.0, 0.001, 0.0535680985792007, 0.001, 0.001, 0.001, 0.4552028018762362, 1.0, 0.001, 0.001, 1.0, 0.001, 0.001, 0.001, 0.001, 0.001, 0.021428691462486486, 0.001, 0.029059374075232885, 0.05949009188305652, 0.001, 0.01057934723871521, 0.015171457090595744, 0.001, 0.001, 0.001, 0.018846616923764957, 0.015490566733390875, 0.001, 0.001, 0.001, 0.001, 0.001, 0.001, 1.0, 0.16385937902858316, 0.02831057652963627, 0.001, 0.001, 1.0, 0.001, 0.001, 0.016183918353096433, 0.001, 0.001, 0.006025017735236867, 1.0, 0.001, 0.001, 1.0, 0.001, 0.001, 0.001, 0.001, 1.0, 0.7538796362227733, 0.001, 0.001, 1.0, 1.0, 0.001, 0.022198602780438316, 0.001, 0.001, 1.0, 0.001, 0.001, 0.001, 0.001, 0.001000001877754767, 0.001, 0.001, 0.004885997037886293, 0.001, 0.013173924333472718, 0.001, 1.0, 0.031024526171164156, 0.001, 0.001, 0.013697562856185844, 0.007960727427224526, 0.001, 0.0010000414327161389, 0.001, 0.001, 0.0036313442611631453, 1.0, 0.001, 1.0, 1.0, 0.001, 0.001, 1.0, 0.7936661444742037, 1.0, 1.0, 1.0, 0.0010001554271366264, 0.015424080054403459, 0.001, 0.001, 0.001, 0.001, 1.0, 0.001, 0.001150678037305445, 0.001, 1.0, 1.0, 0.14929061292444507, 0.03267227099454938, 0.001, 0.001, 0.001, 0.001, 0.001, 0.022119182592875777, 0.001, 0.001, 0.4870414965335892, 0.001, 0.001, 0.001, 0.001, 0.001, 0.001, 0.001, 0.3269170324064102, 0.001, 0.001, 0.001, 0.001, 1.0, 0.001, 0.0010278902464125055, 0.001, 1.0, 0.0010000301261436128, 0.001, 0.001, 0.001, 0.001, 0.001, 0.001, 0.001, 1.0, 0.001, 0.011319722127837157, 0.001, 0.001, 0.001, 0.001, 0.001, 0.05273000693664997, 0.0015436732654788153, 0.001, 0.001, 0.001, 0.3747013755729709, 0.001, 1.0, 1.0, 0.001, 1.0, 1.0, 1.0, 0.001, 0.001, 0.001, 0.43946751463043293, 0.001, 1.0, 1.0, 1.0, 0.001, 0.001, 0.579972294810536, 1.0, 0.06051907928203355, 0.001, 0.001, 0.4243060591556246, 0.001, 0.001, 0.03190004894253687, 0.001, 0.0010114306323116356, 1.0, 0.7146773706593198, 0.48932900918328065, 0.5050656636894301, 1.0, 0.001, 0.8227621094708961, 0.08126385554354257, 0.001, 0.7114139155893965, 0.0010000001605584622, 0.010263253361783327, 0.001, 1.0, 0.001, 0.6780953692166087, 1.0, 0.001, 0.001, 0.001, 0.001, 0.001, 0.001, 1.0, 0.001, 0.001, 0.001, 0.001, 1.0, 0.001, 0.001, 0.001, 0.001, 0.7265873542234176, 1.0, 0.001, 0.002700012376581307, 0.001, 0.001, 0.001, 0.04382456334308288, 0.8869809556600716, 0.9118162100122913, 1.0, 0.9422694012275581, 1.0, 0.575565672310065, 0.001, 0.9104864428627955, 0.009395409331505995, 0.001, 0.001, 0.001, 0.001, 0.0010000000355719128, 0.001, 0.001, 0.001, 0.001, 0.001, 1.0, 0.001, 0.001, 0.001, 0.001, 0.1104011479207836, 0.001, 0.001, 0.001, 0.001, 0.001, 0.001, 0.001, 0.001, 0.07380178214461304, 0.0011004792726370823, 0.001, 1.0, 1.0, 0.8635438360347594, 0.001, 1.0, 1.0, 1.0, 0.001000000216740542, 0.012211178586678874, 0.001, 0.001, 0.012661348271961357, 0.0026454047767129414, 0.0010001727984518824, 0.001, 0.8530241122775785, 0.14709367916065486, 0.001, 1.0, 0.030955323595260296, 1.0, 1.0, 0.001, 0.9854015814089705, 0.7717857880681369, 0.001, 0.001, 0.001, 0.001, 0.700197147064922, 0.19357399968586844, 0.001, 0.4923444312559675, 0.001, 0.6148991259081729, 0.5543869280441669, 1.0, 0.001, 1.0, 0.001, 0.001, 0.9997496216555217, 1.0, 1.0, 0.5503079506997827, 1.0, 0.001, 0.001, 0.001, 1.0, 1.0, 0.001, 0.001, 0.001, 0.4715253963704463, 1.0, 0.001, 0.5705616357940522, 1.0, 0.8696854909575208, 0.001, 0.001, 0.016206598621603403, 0.9256089349271865, 1.0, 0.001, 1.0, 0.5508514383101801, 0.66022061438634, 0.6099724387628864, 0.8599632067814291, 0.001, 0.7607810713995522, 0.049745732088216914, 0.001, 0.6233830940574365, 0.13593019367007889, 0.001, 0.001, 0.8670577621427137, 1.0, 0.001, 0.001, 1.0, 1.0, 1.0, 0.23239324134731099, 1.0, 1.0, 0.001, 0.001, 0.001, 1.0, 0.970922104118066, 0.8788994296529316, 1.0, 0.8023142697324236, 0.09313217582667087, 0.363776497423796, 1.0, 0.001, 0.6409222880734415, 0.7894941410870651, 0.001, 0.001, 0.03162585728011943, 1.0, 0.001, 0.001, 0.001, 1.0, 0.07424662841708057, 1.0, 0.001, 0.05540838091625728, 0.1882055251097915, 0.9999998862707165, 1.0, 1.0, 1.0, 0.001, 0.001, 0.001, 0.001, 0.001, 0.001, 0.001, 0.001, 0.001, 0.001, 0.001, 0.001, 0.659358387416934, 0.001, 0.001, 0.001, 1.0, 0.031388866886670246, 0.001, 0.001, 0.001, 0.001, 1.0, 0.001, 0.001, 1.0, 0.001, 1.0, 0.0012590685417772022, 0.001, 0.001, 0.7223181491127161, 0.023814039137062117, 0.001, 0.2453794595585771, 1.0, 1.0, 0.001, 0.31569610068669124, 0.808924164914669, 0.001, 0.001000056694761254, 0.010096493517989212, 0.001, 0.001, 0.001, 0.005604800990867951, 0.001, 0.001, 0.001, 0.001, 0.001, 0.001, 0.001, 0.012127134504600342, 0.001, 0.021756135815624543, 0.001, 0.004068514131598629, 0.012765804303016466, 0.0010112734477955812, 0.009484561431515047, 0.001, 0.001, 0.001, 0.01022687455733591, 0.001, 0.0027970739876988808, 0.001, 0.6436093040065777, 0.001, 0.001, 0.005065400272863024, 0.001, 0.001, 0.001, 0.001, 0.001, 0.001, 0.010556747699919638, 0.009041536140542528, 0.001, 0.001, 0.001, 0.001, 0.001, 0.19340870929751353, 0.004957488433942895, 0.001, 0.001, 0.018504841404526504, 0.001, 0.001, 0.012795945336400945, 0.001, 0.001, 0.001, 0.0028791403059253923, 0.001, 1.0, 1.0, 0.6116987933668868, 1.0, 0.5949669628398556, 0.001, 0.001, 0.6313926237743778, 1.0, 1.0, 0.001, 1.0, 1.0, 1.0, 0.001, 0.15997795135704695, 1.0, 1.0, 0.001, 0.001, 1.0, 0.001, 0.0010656777353342986, 0.018001131058655247, 0.00492462622518869, 0.012325886996783957, 0.9779430464220361, 0.8499991176328734, 1.0, 0.5974198636463428, 0.35371244626498594, 1.0, 1.0, 1.0, 0.001, 1.0, 0.8922759491487772, 1.0, 1.0, 0.001, 0.001, 1.0, 0.001, 0.001, 0.06345486706904377, 0.001, 0.022443655678241307, 0.954111698565969, 1.0, 1.0, 0.6510817048117763, 0.001, 0.001, 0.001, 0.001, 1.0, 0.001, 0.8136008847105014, 0.001, 0.8010790731012818, 1.0, 0.001, 0.001, 0.001, 0.6028222048874065, 0.001, 0.01875066919110243, 0.001, 1.0, 1.0, 0.001, 0.8297265405314772, 1.0, 1.0, 1.0, 0.9661017588826065, 1.0, 1.0, 1.0, 1.0, 1.0, 0.6679342387327468, 0.001, 1.0, 0.016467986624514652, 0.001, 1.0, 1.0, 0.9992186880752217, 0.006619563865907765, 0.30180062167141586, 0.001, 1.0, 0.0035156947634879406, 1.0, 0.8754838368819456, 1.0, 0.017471714191080373, 0.0378468796448947, 0.001, 0.002805097987166258, 0.001, 0.001, 0.001, 0.9606151925546464, 0.001, 1.0, 0.05351740709170288, 0.001, 0.001, 0.5849845585529889, 0.001, 1.0, 0.001, 0.001, 0.001, 0.001, 0.001, 0.001, 0.7127438681270205, 0.001, 0.001, 1.0, 0.6140939436385402, 0.001, 0.001, 0.001, 0.03086096330033798, 0.001, 0.001, 1.0, 0.001, 0.5529691333046228, 1.0, 1.0, 0.001, 0.9574888935389003, 1.0, 0.03815964966563366, 0.001, 0.001, 0.001, 1.0, 1.0, 0.008359641024756316, 0.001, 0.001, 0.001, 0.001, 1.0, 0.001, 0.001, 0.001, 0.001, 0.001, 0.001, 0.001, 0.0010000050154863498, 0.001, 0.001, 0.007032641525187533, 0.001, 0.0015412524496602558, 0.0032988083649147545, 0.00988825863304631, 0.001, 0.002447063916837299, 0.001, 0.001, 0.0026718643023932, 0.001, 0.004985348732623503, 0.0011661395770821916, 0.01123000152730278, 0.001, 0.008287369075365768, 0.006407478610572946, 0.0010005530611781738, 0.001, 0.001, 0.001, 0.001, 0.001, 0.001, 0.001, 0.001, 0.001, 0.9382247835931041, 0.003292618371418507, 0.023864423872808002, 0.04118086305718995, 0.001, 0.001, 0.001, 0.001, 0.014351800295147741, 0.001, 0.001, 0.001, 0.001, 1.0, 0.029700432702964883, 1.0, 0.001, 0.001, 0.859073626710131, 0.7693061531465063, 1.0, 1.0, 1.0, 0.5558192861564514, 1.0, 0.001, 1.0, 0.7247613499104316, 0.5061381644503364, 1.0, 0.49736807841234165, 1.0, 0.001705917785244736, 0.0010000122916508662, 0.021666367937735933, 0.01830807918954032, 0.001, 0.001, 0.0019170883522856132, 0.013887611597200063, 0.001, 0.025031320455461255, 0.0020466514690487916, 0.001, 0.001, 0.022798756970849935, 0.7974119157214998, 0.9495988277603109, 0.001, 0.01165412400900884, 0.001, 0.0012449850876962054, 0.001, 0.002170853182760626, 0.0010012181484209501, 0.001, 0.001, 0.004759669698110666, 0.0010012235122854127, 0.014591014286532632, 0.001, 0.001, 0.001, 0.02822101321326417, 0.013681794132957349, 0.015131585632428956, 0.001, 1.0, 0.9106812737793271, 1.0, 1.0, 0.03227702097619672, 0.6371981546916035, 1.0, 0.001, 1.0, 0.02655067638393015, 0.0018787536834831678, 1.0, 0.8883173130383103, 1.0, 1.0, 0.001, 1.0, 0.001, 0.001, 0.7921287469669933, 1.0, 1.0, 0.030011703221639992, 1.0, 0.001, 0.0015938031414488663, 0.011922690913577274, 0.0010021276279646755, 0.001, 1.0, 0.02867916338395071, 1.0] after 1962 iterations (returned XTOL_REACHED)\n"
     ]
    }
   ],
   "source": [
    "# p0 = rand(fem_params.np) # For randomized densities \n",
    "grad = zeros(fem_params.np)\n",
    "\n",
    "p_opt = fill(volfrac, fem_params.np)   # Uniform Initial guess\n",
    "g_opt = 0\n",
    "\n",
    "TOL = 1e-5 # tolerance of the MMA \n",
    "MAX_ITER = 4000 # Maximum iteration constraints \n",
    "\n",
    "g_opt, p_opt = gf_p_optimize(p_opt; r, β, η, TOL, MAX_ITER, fem_params);\n",
    "\n",
    "###############################################\n",
    "# For a list of β in the thresholding function \n",
    "#----------------------------------------------\n",
    "# β_list = [4.0,8.0,16.0] \n",
    "# for bi = 1 : 3\n",
    "#     β = β_list[bi]\n",
    "#     g_opt, p_temp_opt = gf_p_optimize(p_opt; r, β, η, fem_params)\n",
    "#     global p_opt = p_temp_opt\n",
    "# end \n",
    "# @show g_opt "
   ]
  },
  {
   "cell_type": "markdown",
   "id": "7e23213a-8593-424e-a9c3-77ae3bb9bd5d",
   "metadata": {},
   "source": [
    "### Postprocessing \n",
    "Redefine the thresholding function with a sharp increase (i.e., increase β) to get a crisp boundary "
   ]
  },
  {
   "cell_type": "code",
   "execution_count": 22,
   "id": "6b41c425-118a-4cd2-8777-7068b68b304d",
   "metadata": {},
   "outputs": [],
   "source": [
    "βpost=64\n",
    "function Thresholdp(pfh; βpost, η)\n",
    "    return ((tanh(βpost * η) + tanh(βpost * (pfh - η))) / (tanh(βpost * η) + tanh(βpost * (1.0 - η)))) \n",
    "end \n",
    "\n",
    "pf_vec = pf_p0(p_opt; r, fem_params)\n",
    "pfh = FEFunction(fem_params.Pf, pf_vec)\n",
    "pth = (pf -> Thresholdp(pf; βpost, η)) ∘ pfh; "
   ]
  },
  {
   "cell_type": "markdown",
   "id": "ddf73bcb-1082-4a27-8eee-61c7a8103421",
   "metadata": {},
   "source": [
    "### Save the optimized design in png and vtk files "
   ]
  },
  {
   "cell_type": "code",
   "execution_count": 23,
   "id": "52c726b0-2b1c-4094-b658-1636b8b86a11",
   "metadata": {},
   "outputs": [],
   "source": [
    "fig, ax, plt = plot(fem_params.Ω, pth, colormap = :binary)\n",
    "Colorbar(fig[1,2], plt)\n",
    "ax.aspect = AxisAspect(3)\n",
    "ax.title = \"Optimized Design\"\n",
    "# rplot = 110 # Region for plot\n",
    "limits!(ax, 0, 80, 0, 120)\n",
    "save(\"shapeChair.png\", fig)\n",
    "\n",
    "writevtk(Ω,\"mayankChair\",cellfields= [\"p_opt\"=>p_opt,\"pfh\"=>pfh,\"pth\"=>pth]); "
   ]
  }
 ],
 "metadata": {
  "kernelspec": {
   "display_name": "Julia 1.10.3",
   "language": "julia",
   "name": "julia-1.10"
  },
  "language_info": {
   "file_extension": ".jl",
   "mimetype": "application/julia",
   "name": "julia",
   "version": "1.10.3"
  }
 },
 "nbformat": 4,
 "nbformat_minor": 5
}
